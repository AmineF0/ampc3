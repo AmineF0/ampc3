{
 "cells": [
  {
   "cell_type": "code",
   "execution_count": 2,
   "metadata": {},
   "outputs": [],
   "source": [
    "import os\n",
    "import sys\n",
    "from random import randint\n",
    "from random import random"
   ]
  },
  {
   "cell_type": "code",
   "execution_count": 56,
   "metadata": {},
   "outputs": [],
   "source": [
    "has_test_cases = True\n",
    "amount_of_test_cases = 10\n",
    "\n",
    "amount_of_inputs = 50\n",
    "\n",
    "start_input_index = 10\n",
    "\n",
    "unique_strings = 10\n",
    "string_length = 4"
   ]
  },
  {
   "cell_type": "code",
   "execution_count": 42,
   "metadata": {},
   "outputs": [
    {
     "data": {
      "text/plain": [
       "'youness'"
      ]
     },
     "execution_count": 42,
     "metadata": {},
     "output_type": "execute_result"
    }
   ],
   "source": [
    "names = [\"youness\", \"jalal\", \"riad\", \"mohamed\", \"amine\", \"mehdi\", \"asmae\", \"zineb\", \"ibtihal\"]\n",
    "\n",
    "def get_random_name(r=len(names)):\n",
    "    return names[randint(0, len(names[:min(r, len(names))]) - 1)]\n"
   ]
  },
  {
   "cell_type": "code",
   "execution_count": 57,
   "metadata": {},
   "outputs": [],
   "source": [
    "def randDouble(min, max, precision=2):\n",
    "    return round(min + (max - min) * random(), precision)\n",
    "\n",
    "def randInt(min, max):\n",
    "    return randint(min, max)\n",
    "\n",
    "stringCombinations = [ ''.join(chr(randInt(97, 122)) for _ in range(4)) for _ in range(unique_strings) ]\n",
    "def randString():\n",
    "    return stringCombinations[randInt(0, unique_strings - 1)]"
   ]
  },
  {
   "cell_type": "code",
   "execution_count": 58,
   "metadata": {},
   "outputs": [],
   "source": [
    "def generate_case():\n",
    "  test_case = \"\"\n",
    "  test_case += str(randDouble(-100, 100)) + \" \" + str(randInt(0, 100)) + \"\\n\"\n",
    "  return test_case\n",
    "\n",
    "def generate_input():\n",
    "  \n",
    "  for i in range(0, amount_of_inputs):\n",
    "    input_text = \"\"\n",
    "\n",
    "    if has_test_cases:\n",
    "      # number of test cases\n",
    "      input_text += str(amount_of_test_cases) + \"\\n\"\n",
    "      # the t test cases\n",
    "      for j in range(0, amount_of_test_cases):\n",
    "        input_text += generate_case()\n",
    "      \n",
    "    else:\n",
    "      input_text += generate_case() \n",
    "    \n",
    "    print(input_text)    \n",
    "    filename = \"input\" + str(i+start_input_index) + \".txt\"\n",
    "\n",
    "    with open(filename, \"w\") as file:\n",
    "      file.write(input_text)\n"
   ]
  },
  {
   "cell_type": "code",
   "execution_count": 59,
   "metadata": {},
   "outputs": [
    {
     "name": "stdout",
     "output_type": "stream",
     "text": [
      "2\n",
      "-80.23092413872857 56\n",
      "2.9332894418701727 82\n",
      "\n",
      "2\n",
      "37.50270517161471 59\n",
      "99.97901785580436 49\n",
      "\n",
      "2\n",
      "81.05038533355437 12\n",
      "-26.297747097406045 62\n",
      "\n",
      "2\n",
      "98.39649962710226 14\n",
      "67.9099457996316 100\n",
      "\n",
      "2\n",
      "-62.95079897968827 36\n",
      "55.13158803801235 79\n",
      "\n",
      "2\n",
      "76.59375117075572 80\n",
      "-74.64139390093169 16\n",
      "\n",
      "2\n",
      "51.943929969799115 15\n",
      "-47.341213114176824 69\n",
      "\n",
      "2\n",
      "26.75992556512874 20\n",
      "29.14525772581112 67\n",
      "\n",
      "2\n",
      "-43.313179742703056 78\n",
      "7.025800792538121 87\n",
      "\n",
      "2\n",
      "79.91140087973969 17\n",
      "68.70550552990659 96\n",
      "\n"
     ]
    }
   ],
   "source": [
    "generate_input()"
   ]
  }
 ],
 "metadata": {
  "kernelspec": {
   "display_name": "base",
   "language": "python",
   "name": "python3"
  },
  "language_info": {
   "codemirror_mode": {
    "name": "ipython",
    "version": 3
   },
   "file_extension": ".py",
   "mimetype": "text/x-python",
   "name": "python",
   "nbconvert_exporter": "python",
   "pygments_lexer": "ipython3",
   "version": "3.11.5"
  }
 },
 "nbformat": 4,
 "nbformat_minor": 2
}
