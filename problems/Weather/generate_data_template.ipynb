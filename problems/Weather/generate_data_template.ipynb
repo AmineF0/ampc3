{
 "cells": [
  {
   "cell_type": "code",
   "execution_count": 26,
   "metadata": {},
   "outputs": [],
   "source": [
    "import os\n",
    "import sys\n",
    "from random import randint\n",
    "from random import random"
   ]
  },
  {
   "cell_type": "code",
   "execution_count": 27,
   "metadata": {},
   "outputs": [],
   "source": [
    "has_test_cases = True\n",
    "amount_of_test_cases = 3\n",
    "\n",
    "amount_of_inputs = 5\n",
    "\n",
    "start_input_index = 1"
   ]
  },
  {
   "cell_type": "code",
   "execution_count": 28,
   "metadata": {},
   "outputs": [],
   "source": [
    "def randDouble(min, max, precision=2):\n",
    "    return round(min + (max - min) * random(), precision)\n",
    "\n",
    "def randInt(min, max):\n",
    "    return randint(min, max)"
   ]
  },
  {
   "cell_type": "code",
   "execution_count": 29,
   "metadata": {},
   "outputs": [],
   "source": [
    "max_int = 5\n",
    "def generate_case():\n",
    "  test_case = \"\"\n",
    "  a0, a1, a2 = randInt(1, max_int), randInt(1, max_int), randInt(1, max_int)\n",
    "  t = randInt(0, max_int)\n",
    "\n",
    "  test_case += str(a0) + \" \" + str(a1) + \" \" + str(a2) + \" \" + str(t) + \"\\n\"\n",
    "  \n",
    "  return test_case\n",
    "\n",
    "def generate_input():\n",
    "  \n",
    "  for i in range(0, amount_of_inputs):\n",
    "    input_text = \"\"\n",
    "\n",
    "    if has_test_cases:\n",
    "      # number of test cases\n",
    "      input_text += str(amount_of_test_cases) + \"\\n\"\n",
    "      # the t test cases\n",
    "      for j in range(0, amount_of_test_cases):\n",
    "        input_text += generate_case()\n",
    "      \n",
    "    else:\n",
    "      input_text += generate_case() \n",
    "    \n",
    "    print(input_text)    \n",
    "    filename = \"input/input\" + str(i+start_input_index) + \".txt\"\n",
    "\n",
    "    with open(filename, \"w\") as file:\n",
    "      file.write(input_text)\n"
   ]
  },
  {
   "cell_type": "code",
   "execution_count": 30,
   "metadata": {},
   "outputs": [
    {
     "name": "stdout",
     "output_type": "stream",
     "text": [
      "3\n",
      "2 4 2 0\n",
      "4 4 4 2\n",
      "2 5 3 3\n",
      "\n",
      "3\n",
      "1 4 5 2\n",
      "1 5 2 2\n",
      "1 1 5 4\n",
      "\n",
      "3\n",
      "2 2 4 1\n",
      "1 4 5 0\n",
      "1 2 3 3\n",
      "\n",
      "3\n",
      "2 2 4 3\n",
      "1 2 2 0\n",
      "5 5 5 1\n",
      "\n",
      "3\n",
      "1 5 1 3\n",
      "1 2 5 4\n",
      "1 3 3 3\n",
      "\n",
      "3\n",
      "1 2 3 3\n",
      "5 2 1 3\n",
      "1 5 4 4\n",
      "\n",
      "3\n",
      "3 2 2 3\n",
      "5 1 3 1\n",
      "2 4 3 4\n",
      "\n",
      "3\n",
      "3 5 1 4\n",
      "5 4 3 5\n",
      "4 4 5 0\n",
      "\n"
     ]
    }
   ],
   "source": [
    "generate_input()"
   ]
  }
 ],
 "metadata": {
  "kernelspec": {
   "display_name": "base",
   "language": "python",
   "name": "python3"
  },
  "language_info": {
   "codemirror_mode": {
    "name": "ipython",
    "version": 3
   },
   "file_extension": ".py",
   "mimetype": "text/x-python",
   "name": "python",
   "nbconvert_exporter": "python",
   "pygments_lexer": "ipython3",
   "version": "3.11.5"
  }
 },
 "nbformat": 4,
 "nbformat_minor": 2
}
