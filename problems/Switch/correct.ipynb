{
 "cells": [
  {
   "cell_type": "code",
   "execution_count": 7,
   "metadata": {},
   "outputs": [],
   "source": [
    "import os"
   ]
  },
  {
   "cell_type": "code",
   "execution_count": 18,
   "metadata": {},
   "outputs": [],
   "source": [
    "# read files in the folder input one by one\n",
    "for file in os.listdir('input'):\n",
    "    # read the file content\n",
    "    \n",
    "    with open('input/' + file, 'r') as f:\n",
    "        string = \"\"\n",
    "        content = f.read()\n",
    "        for i, line in enumerate(content.split(\"\\n\")):\n",
    "            if i!=0 and len(line) and str.isdigit(line[0]):\n",
    "                arr = line.split()\n",
    "                string += str(len(arr)) + \"\\n\" + \" \".join(arr) + \"\\n\"\n",
    "            else:\n",
    "              string += line + '\\n'\n",
    "    with open('inputc/' + file, 'w') as f:\n",
    "        f.write(string)    "
   ]
  }
 ],
 "metadata": {
  "kernelspec": {
   "display_name": "base",
   "language": "python",
   "name": "python3"
  },
  "language_info": {
   "codemirror_mode": {
    "name": "ipython",
    "version": 3
   },
   "file_extension": ".py",
   "mimetype": "text/x-python",
   "name": "python",
   "nbconvert_exporter": "python",
   "pygments_lexer": "ipython3",
   "version": "3.11.5"
  }
 },
 "nbformat": 4,
 "nbformat_minor": 2
}
