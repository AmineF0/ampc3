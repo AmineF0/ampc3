{
 "cells": [
  {
   "cell_type": "code",
   "execution_count": 46,
   "metadata": {},
   "outputs": [],
   "source": [
    "import os\n",
    "import sys\n",
    "from random import randint\n",
    "from random import random"
   ]
  },
  {
   "cell_type": "code",
   "execution_count": 47,
   "metadata": {},
   "outputs": [],
   "source": [
    "has_test_cases = True\n",
    "amount_of_test_cases = 3\n",
    "\n",
    "amount_of_inputs = 1\n",
    "\n",
    "start_input_index = 1"
   ]
  },
  {
   "cell_type": "code",
   "execution_count": 48,
   "metadata": {},
   "outputs": [],
   "source": [
    "def randInt(min, max):\n",
    "    return randint(min, max)"
   ]
  },
  {
   "cell_type": "code",
   "execution_count": 49,
   "metadata": {},
   "outputs": [],
   "source": [
    "max_int = 10#2**31 - 1\n",
    "def generate_case():\n",
    "  test_case = \"\"\n",
    "  n = randInt(1,5)# nbr , len\n",
    "  test_case += f\"{n}\\n\"\n",
    "\n",
    "  for i in range(0, n):\n",
    "    test_case += f\"{randInt(1, max_int)} \"\n",
    "  test_case += \"\\n\" \n",
    "\n",
    "  return test_case\n",
    "\n",
    "def generate_input():\n",
    "  \n",
    "  for i in range(0, amount_of_inputs):\n",
    "    input_text = \"\"\n",
    "\n",
    "    if has_test_cases:\n",
    "      \n",
    "      # number of test cases\n",
    "      input_text += str(amount_of_test_cases) + \"\\n\"\n",
    "      # the t test cases\n",
    "      for j in range(0, amount_of_test_cases):\n",
    "        print(f\"{i+1} {j+1}\")  \n",
    "        input_text += generate_case()\n",
    "      \n",
    "    else:\n",
    "      input_text += generate_case() \n",
    "    \n",
    "    \n",
    "    filename = \"input/input\" + str(i+start_input_index) + \".txt\"\n",
    "\n",
    "    with open(filename, \"w\") as file:\n",
    "      file.write(input_text)\n"
   ]
  },
  {
   "cell_type": "code",
   "execution_count": 50,
   "metadata": {},
   "outputs": [
    {
     "name": "stdout",
     "output_type": "stream",
     "text": [
      "1 1\n",
      "1 2\n",
      "1 3\n"
     ]
    }
   ],
   "source": [
    "generate_input()"
   ]
  }
 ],
 "metadata": {
  "kernelspec": {
   "display_name": "base",
   "language": "python",
   "name": "python3"
  },
  "language_info": {
   "codemirror_mode": {
    "name": "ipython",
    "version": 3
   },
   "file_extension": ".py",
   "mimetype": "text/x-python",
   "name": "python",
   "nbconvert_exporter": "python",
   "pygments_lexer": "ipython3",
   "version": "3.11.5"
  }
 },
 "nbformat": 4,
 "nbformat_minor": 2
}
